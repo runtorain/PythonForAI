{
  "nbformat": 4,
  "nbformat_minor": 0,
  "metadata": {
    "colab": {
      "provenance": [],
      "authorship_tag": "ABX9TyMg1h4ACNoDslGqlHP3yprI",
      "include_colab_link": true
    },
    "kernelspec": {
      "name": "python3",
      "display_name": "Python 3"
    },
    "language_info": {
      "name": "python"
    }
  },
  "cells": [
    {
      "cell_type": "markdown",
      "metadata": {
        "id": "view-in-github",
        "colab_type": "text"
      },
      "source": [
        "<a href=\"https://colab.research.google.com/github/runtorain/PythonForAI/blob/main/PythonForAI.ipynb\" target=\"_parent\"><img src=\"https://colab.research.google.com/assets/colab-badge.svg\" alt=\"Open In Colab\"/></a>"
      ]
    },
    {
      "cell_type": "markdown",
      "source": [
        "# 1.Data Type"
      ],
      "metadata": {
        "id": "mExu-T8BizCk"
      }
    },
    {
      "cell_type": "markdown",
      "source": [
        "\n",
        "\n",
        "*   Int\n",
        "*   Float\n",
        "*   Bool\n",
        "*   String\n",
        "*   Tuple\n",
        "*   Set\n",
        "*   Dictionary\n",
        "\n"
      ],
      "metadata": {
        "id": "n5TLQZNwjHkC"
      }
    },
    {
      "cell_type": "markdown",
      "source": [
        "## 1.1 Math Operators"
      ],
      "metadata": {
        "id": "L6trdJqii6J5"
      }
    },
    {
      "cell_type": "code",
      "execution_count": null,
      "metadata": {
        "id": "MyjGLN4OhpLC",
        "colab": {
          "base_uri": "https://localhost:8080/"
        },
        "outputId": "2aaa12d0-304a-4d46-89df-fc522991e2bc"
      },
      "outputs": [
        {
          "output_type": "execute_result",
          "data": {
            "text/plain": [
              "5"
            ]
          },
          "metadata": {},
          "execution_count": 12
        }
      ],
      "source": [
        "2+3"
      ]
    },
    {
      "cell_type": "code",
      "source": [
        "10-2\n"
      ],
      "metadata": {
        "colab": {
          "base_uri": "https://localhost:8080/"
        },
        "id": "0k4CaIUKvWGD",
        "outputId": "ff876bb8-3b6b-4736-f1e9-ea15334a1575"
      },
      "execution_count": null,
      "outputs": [
        {
          "output_type": "execute_result",
          "data": {
            "text/plain": [
              "8"
            ]
          },
          "metadata": {},
          "execution_count": 13
        }
      ]
    },
    {
      "cell_type": "code",
      "source": [
        "10*2"
      ],
      "metadata": {
        "colab": {
          "base_uri": "https://localhost:8080/"
        },
        "id": "GuOCKg0Avqs9",
        "outputId": "d531cdb6-1d43-48c4-fbf8-ee9f92775686"
      },
      "execution_count": null,
      "outputs": [
        {
          "output_type": "execute_result",
          "data": {
            "text/plain": [
              "20"
            ]
          },
          "metadata": {},
          "execution_count": 14
        }
      ]
    },
    {
      "cell_type": "code",
      "source": [
        "10/3"
      ],
      "metadata": {
        "colab": {
          "base_uri": "https://localhost:8080/"
        },
        "id": "hXNpU4tqvteb",
        "outputId": "df7d17d8-6051-48dc-e682-c6f4f02fac40"
      },
      "execution_count": null,
      "outputs": [
        {
          "output_type": "execute_result",
          "data": {
            "text/plain": [
              "3.3333333333333335"
            ]
          },
          "metadata": {},
          "execution_count": 15
        }
      ]
    },
    {
      "cell_type": "code",
      "source": [
        "10//4"
      ],
      "metadata": {
        "colab": {
          "base_uri": "https://localhost:8080/"
        },
        "id": "yg2F-LaDvweb",
        "outputId": "d01543cb-1514-422d-88c5-5c2df54cdc23"
      },
      "execution_count": null,
      "outputs": [
        {
          "output_type": "execute_result",
          "data": {
            "text/plain": [
              "2"
            ]
          },
          "metadata": {},
          "execution_count": 16
        }
      ]
    },
    {
      "cell_type": "code",
      "source": [
        "10%5"
      ],
      "metadata": {
        "colab": {
          "base_uri": "https://localhost:8080/"
        },
        "id": "8G6RdRzcv0qb",
        "outputId": "17b44aaa-fc1e-4e12-b5d4-16efc7835810"
      },
      "execution_count": null,
      "outputs": [
        {
          "output_type": "execute_result",
          "data": {
            "text/plain": [
              "0"
            ]
          },
          "metadata": {},
          "execution_count": 17
        }
      ]
    },
    {
      "cell_type": "code",
      "source": [
        "11%5"
      ],
      "metadata": {
        "colab": {
          "base_uri": "https://localhost:8080/"
        },
        "id": "uKLRjSPEv7FM",
        "outputId": "d222be18-03aa-4c0d-e14b-8d166fc33d55"
      },
      "execution_count": null,
      "outputs": [
        {
          "output_type": "execute_result",
          "data": {
            "text/plain": [
              "1"
            ]
          },
          "metadata": {},
          "execution_count": 18
        }
      ]
    },
    {
      "cell_type": "code",
      "source": [
        "2**3"
      ],
      "metadata": {
        "colab": {
          "base_uri": "https://localhost:8080/"
        },
        "id": "vVE6gltWv93L",
        "outputId": "6c8b40d9-697f-4977-d54d-e91339f4fb61"
      },
      "execution_count": null,
      "outputs": [
        {
          "output_type": "execute_result",
          "data": {
            "text/plain": [
              "8"
            ]
          },
          "metadata": {},
          "execution_count": 19
        }
      ]
    },
    {
      "cell_type": "code",
      "source": [
        "(2+3)*4"
      ],
      "metadata": {
        "colab": {
          "base_uri": "https://localhost:8080/"
        },
        "id": "ixJEaDfRwA_7",
        "outputId": "8f560895-0ca7-4395-8363-bb73e3ae74bb"
      },
      "execution_count": null,
      "outputs": [
        {
          "output_type": "execute_result",
          "data": {
            "text/plain": [
              "20"
            ]
          },
          "metadata": {},
          "execution_count": 20
        }
      ]
    },
    {
      "cell_type": "code",
      "source": [
        "2+3*4"
      ],
      "metadata": {
        "colab": {
          "base_uri": "https://localhost:8080/"
        },
        "id": "1fcZDHZ4wHY0",
        "outputId": "062dac3d-db56-44ea-8696-93f01ffb1c67"
      },
      "execution_count": null,
      "outputs": [
        {
          "output_type": "execute_result",
          "data": {
            "text/plain": [
              "14"
            ]
          },
          "metadata": {},
          "execution_count": 21
        }
      ]
    },
    {
      "cell_type": "markdown",
      "source": [
        "## 1.2 Interger Float"
      ],
      "metadata": {
        "id": "IRtUNm_NwNXy"
      }
    },
    {
      "cell_type": "code",
      "source": [
        "print(10+1)"
      ],
      "metadata": {
        "colab": {
          "base_uri": "https://localhost:8080/"
        },
        "id": "kP8pZtmywb0D",
        "outputId": "98482204-0bd5-44b1-e6b4-a1446e474645"
      },
      "execution_count": null,
      "outputs": [
        {
          "output_type": "stream",
          "name": "stdout",
          "text": [
            "11\n"
          ]
        }
      ]
    },
    {
      "cell_type": "code",
      "source": [
        "print(type(10+1))"
      ],
      "metadata": {
        "colab": {
          "base_uri": "https://localhost:8080/"
        },
        "id": "vw_AFn_HwikL",
        "outputId": "9d08ed64-4518-49f2-b74f-9b306af199d3"
      },
      "execution_count": null,
      "outputs": [
        {
          "output_type": "stream",
          "name": "stdout",
          "text": [
            "<class 'int'>\n"
          ]
        }
      ]
    },
    {
      "cell_type": "code",
      "source": [
        "print(type(7.017))"
      ],
      "metadata": {
        "colab": {
          "base_uri": "https://localhost:8080/"
        },
        "id": "E2nwY-qEwvqT",
        "outputId": "37f518b6-1e8f-4cd3-8ef3-34b8785b62d5"
      },
      "execution_count": null,
      "outputs": [
        {
          "output_type": "stream",
          "name": "stdout",
          "text": [
            "<class 'float'>\n"
          ]
        }
      ]
    },
    {
      "cell_type": "code",
      "source": [
        "print(type(7.3+1.7))"
      ],
      "metadata": {
        "colab": {
          "base_uri": "https://localhost:8080/"
        },
        "id": "VUXP3TI-w3OK",
        "outputId": "7ab04ee8-318a-434c-824a-334cc9e74793"
      },
      "execution_count": null,
      "outputs": [
        {
          "output_type": "stream",
          "name": "stdout",
          "text": [
            "<class 'float'>\n"
          ]
        }
      ]
    },
    {
      "cell_type": "code",
      "source": [
        "7.3+1.7"
      ],
      "metadata": {
        "colab": {
          "base_uri": "https://localhost:8080/"
        },
        "id": "aLaMNEfexAYC",
        "outputId": "9e356878-4e43-4a50-853a-8f554b96b2e7"
      },
      "execution_count": null,
      "outputs": [
        {
          "output_type": "execute_result",
          "data": {
            "text/plain": [
              "9.0"
            ]
          },
          "metadata": {},
          "execution_count": 26
        }
      ]
    },
    {
      "cell_type": "markdown",
      "source": [
        "## 1.3 Variable"
      ],
      "metadata": {
        "id": "Gi24v4id55qz"
      }
    },
    {
      "cell_type": "code",
      "source": [
        "year = 2024"
      ],
      "metadata": {
        "id": "zIZ2kCpc6Q7k"
      },
      "execution_count": null,
      "outputs": []
    },
    {
      "cell_type": "code",
      "source": [
        "print(year)"
      ],
      "metadata": {
        "colab": {
          "base_uri": "https://localhost:8080/"
        },
        "id": "fpJbNPvc6X0r",
        "outputId": "f3fad04c-f1e3-4f73-a9ed-bbc48360dd6a"
      },
      "execution_count": null,
      "outputs": [
        {
          "output_type": "stream",
          "name": "stdout",
          "text": [
            "2024\n"
          ]
        }
      ]
    },
    {
      "cell_type": "code",
      "source": [
        "type(year)"
      ],
      "metadata": {
        "colab": {
          "base_uri": "https://localhost:8080/"
        },
        "id": "Txhf9El_6fu0",
        "outputId": "b4efe22a-211d-4d40-dd1a-2817155cc795"
      },
      "execution_count": null,
      "outputs": [
        {
          "output_type": "execute_result",
          "data": {
            "text/plain": [
              "int"
            ]
          },
          "metadata": {},
          "execution_count": 29
        }
      ]
    },
    {
      "cell_type": "code",
      "source": [
        "user_age = 20"
      ],
      "metadata": {
        "id": "l3TEcDn66lc0"
      },
      "execution_count": null,
      "outputs": []
    },
    {
      "cell_type": "code",
      "source": [
        "user_age = year - 2000"
      ],
      "metadata": {
        "id": "27ccfZWx6ow8"
      },
      "execution_count": null,
      "outputs": []
    },
    {
      "cell_type": "code",
      "source": [
        "print(user_age)"
      ],
      "metadata": {
        "colab": {
          "base_uri": "https://localhost:8080/"
        },
        "id": "1Q8fBkUH6zN8",
        "outputId": "de47a8de-cb68-48c9-b0e2-81b0d7239889"
      },
      "execution_count": null,
      "outputs": [
        {
          "output_type": "stream",
          "name": "stdout",
          "text": [
            "24\n"
          ]
        }
      ]
    },
    {
      "cell_type": "code",
      "source": [
        "my_age = 24\n",
        "print(my_Age)"
      ],
      "metadata": {
        "colab": {
          "base_uri": "https://localhost:8080/",
          "height": 159
        },
        "id": "0pBfzLn365Es",
        "outputId": "a130f253-40f0-4b50-c151-ad9eee5e1be5"
      },
      "execution_count": null,
      "outputs": [
        {
          "output_type": "error",
          "ename": "NameError",
          "evalue": "name 'my_Age' is not defined",
          "traceback": [
            "\u001b[0;31m---------------------------------------------------------------------------\u001b[0m",
            "\u001b[0;31mNameError\u001b[0m                                 Traceback (most recent call last)",
            "\u001b[0;32m<ipython-input-33-1ae4e2a65eb5>\u001b[0m in \u001b[0;36m<cell line: 2>\u001b[0;34m()\u001b[0m\n\u001b[1;32m      1\u001b[0m \u001b[0mmy_age\u001b[0m \u001b[0;34m=\u001b[0m \u001b[0;36m24\u001b[0m\u001b[0;34m\u001b[0m\u001b[0;34m\u001b[0m\u001b[0m\n\u001b[0;32m----> 2\u001b[0;31m \u001b[0mprint\u001b[0m\u001b[0;34m(\u001b[0m\u001b[0mmy_Age\u001b[0m\u001b[0;34m)\u001b[0m\u001b[0;34m\u001b[0m\u001b[0;34m\u001b[0m\u001b[0m\n\u001b[0m",
            "\u001b[0;31mNameError\u001b[0m: name 'my_Age' is not defined"
          ]
        }
      ]
    },
    {
      "cell_type": "code",
      "source": [
        "PI = 3.14"
      ],
      "metadata": {
        "id": "8XBLx6--7E4M"
      },
      "execution_count": null,
      "outputs": []
    },
    {
      "cell_type": "code",
      "source": [
        "PI = 0"
      ],
      "metadata": {
        "id": "bfSP9wjN7N0M"
      },
      "execution_count": null,
      "outputs": []
    },
    {
      "cell_type": "code",
      "source": [
        "a,b,c = 1,2,3\n",
        "print(a,b,c)"
      ],
      "metadata": {
        "id": "IvjVwl1y7hMc"
      },
      "execution_count": null,
      "outputs": []
    },
    {
      "cell_type": "code",
      "source": [
        "True = 32"
      ],
      "metadata": {
        "id": "MjjBmRj_7yYs"
      },
      "execution_count": null,
      "outputs": []
    },
    {
      "cell_type": "markdown",
      "source": [
        "## 1.4  Augmented assignment operator"
      ],
      "metadata": {
        "id": "Bs51gJ20vNcv"
      }
    },
    {
      "cell_type": "code",
      "source": [
        "a = 10\n",
        "b = 20\n",
        "a = a + b\n",
        "print(a)"
      ],
      "metadata": {
        "id": "A6XJT1uXxhS1"
      },
      "execution_count": null,
      "outputs": []
    },
    {
      "cell_type": "code",
      "source": [
        "a = 10\n",
        "b = 20\n",
        "a += b\n",
        "print(a)"
      ],
      "metadata": {
        "id": "_x6W4HOaxmSV"
      },
      "execution_count": null,
      "outputs": []
    },
    {
      "cell_type": "code",
      "source": [
        "a = 10\n",
        "b = 20\n",
        "a -= b\n",
        "print(a)"
      ],
      "metadata": {
        "id": "zcYjdNjHxsoF"
      },
      "execution_count": null,
      "outputs": []
    },
    {
      "cell_type": "code",
      "source": [
        "a = 10\n",
        "b = 20\n",
        "a *= b\n",
        "print(a)"
      ],
      "metadata": {
        "id": "whSJI6Gzxykl"
      },
      "execution_count": null,
      "outputs": []
    },
    {
      "cell_type": "code",
      "source": [
        "a = 32\n",
        "b = 20\n",
        "a /= b\n",
        "print(a)\n"
      ],
      "metadata": {
        "id": "LHMr8sBhx4qV"
      },
      "execution_count": null,
      "outputs": []
    },
    {
      "cell_type": "code",
      "source": [
        "a = 32\n",
        "b = 20\n",
        "a //= b\n",
        "print(a)"
      ],
      "metadata": {
        "id": "c2F1bMgbyAU-"
      },
      "execution_count": null,
      "outputs": []
    },
    {
      "cell_type": "code",
      "source": [
        "a = 32\n",
        "b = 20\n",
        "a %= b\n",
        "print(a)"
      ],
      "metadata": {
        "id": "_rtETTlUyHXv"
      },
      "execution_count": null,
      "outputs": []
    },
    {
      "cell_type": "code",
      "source": [
        "a = 32\n",
        "b = 20\n",
        "a **= b\n",
        "print(a)"
      ],
      "metadata": {
        "id": "Gy59cJSqyNcF"
      },
      "execution_count": null,
      "outputs": []
    },
    {
      "cell_type": "code",
      "source": [],
      "metadata": {
        "id": "j_358wZcNmx-"
      },
      "execution_count": null,
      "outputs": []
    },
    {
      "cell_type": "markdown",
      "source": [
        "## 1.6 Python Bulit-in Function & String Method"
      ],
      "metadata": {
        "id": "a0q9pJ51jAcE"
      }
    },
    {
      "cell_type": "code",
      "source": [
        "a = '1234'\n"
      ],
      "metadata": {
        "id": "c5H5OVcYO_Qn"
      },
      "execution_count": null,
      "outputs": []
    },
    {
      "cell_type": "code",
      "source": [
        "print(a)\n",
        "print(type(a))\n",
        "print(len(a))\n",
        "print(str(a))\n",
        "print(int(a))\n",
        "print(float(a))"
      ],
      "metadata": {
        "id": "a2jbUt6BOXVv"
      },
      "execution_count": null,
      "outputs": []
    },
    {
      "cell_type": "code",
      "source": [
        "a = '1234'\n",
        "b = '5678'\n",
        "print(a+b)"
      ],
      "metadata": {
        "id": "udgUNKFvPEx4"
      },
      "execution_count": null,
      "outputs": []
    },
    {
      "cell_type": "code",
      "source": [
        "#Example of string method\n",
        "text = 'hello welcome'\n",
        "x= text.capitalize()\n",
        "print(x)"
      ],
      "metadata": {
        "id": "iywvDCAwPlty"
      },
      "execution_count": null,
      "outputs": []
    },
    {
      "cell_type": "code",
      "source": [
        "text.count('l')"
      ],
      "metadata": {
        "id": "EB-xNCx0QDG6"
      },
      "execution_count": null,
      "outputs": []
    },
    {
      "cell_type": "code",
      "source": [
        "text.upper()"
      ],
      "metadata": {
        "id": "m9tpuVGBQTVB"
      },
      "execution_count": null,
      "outputs": []
    },
    {
      "cell_type": "code",
      "source": [
        "c = 12"
      ],
      "metadata": {
        "id": "HLqB4w9xQXNJ"
      },
      "execution_count": null,
      "outputs": []
    },
    {
      "cell_type": "code",
      "source": [
        "x = text.replace('hello','hi')\n",
        "print(x)"
      ],
      "metadata": {
        "id": "hD-hK_IZQd4f"
      },
      "execution_count": null,
      "outputs": []
    },
    {
      "cell_type": "markdown",
      "source": [
        "##1.7 Booleans & Lists"
      ],
      "metadata": {
        "id": "QzB8el9ZQ03S"
      }
    },
    {
      "cell_type": "code",
      "source": [
        "# bool\n",
        "name = 'Myname'\n",
        "is_man = True\n",
        "is_woman  = False\n",
        "print(is_man)\n",
        "print(is_woman)"
      ],
      "metadata": {
        "id": "MJ-7dBecDErN"
      },
      "execution_count": null,
      "outputs": []
    },
    {
      "cell_type": "code",
      "source": [
        "bool(1)"
      ],
      "metadata": {
        "id": "g9jn3IICDQEv"
      },
      "execution_count": null,
      "outputs": []
    },
    {
      "cell_type": "code",
      "source": [
        "bool(0)"
      ],
      "metadata": {
        "id": "UTFLc7sTDUN1"
      },
      "execution_count": null,
      "outputs": []
    },
    {
      "cell_type": "code",
      "source": [
        "bool('True')"
      ],
      "metadata": {
        "id": "FjD8e513DWjt"
      },
      "execution_count": null,
      "outputs": []
    },
    {
      "cell_type": "code",
      "source": [
        "## List\n",
        "list = [1,2,3,4,5]\n",
        "print(list)\n",
        "print(type(list))"
      ],
      "metadata": {
        "id": "3va1GbAWDc81"
      },
      "execution_count": null,
      "outputs": []
    },
    {
      "cell_type": "code",
      "source": [
        "list = ['a','b','c']\n",
        "print(list)\n",
        "print(type(list))"
      ],
      "metadata": {
        "id": "6mZpjr6QDjf9"
      },
      "execution_count": null,
      "outputs": []
    },
    {
      "cell_type": "code",
      "source": [
        "shopping_cart = ['apple','banana','orange']\n",
        "print(shopping_cart)"
      ],
      "metadata": {
        "id": "8squgwgvDqrl"
      },
      "execution_count": null,
      "outputs": []
    },
    {
      "cell_type": "code",
      "source": [
        "shopping_cart[0]"
      ],
      "metadata": {
        "id": "H4jPc326D3E2"
      },
      "execution_count": null,
      "outputs": []
    },
    {
      "cell_type": "code",
      "source": [
        "a = 'hello'\n",
        "a[0] = 'p'\n",
        "print(a)"
      ],
      "metadata": {
        "id": "mraCFjywD8SF"
      },
      "execution_count": null,
      "outputs": []
    },
    {
      "cell_type": "code",
      "source": [
        "shopping_cart[0] = 'pineapple'\n",
        "print(shopping_cart)"
      ],
      "metadata": {
        "id": "_axw4H3NEBNe"
      },
      "execution_count": null,
      "outputs": []
    },
    {
      "cell_type": "code",
      "source": [
        "shopping_cart.append('grape')\n",
        "print(shopping_cart)"
      ],
      "metadata": {
        "id": "MgQFDhU0EJA1"
      },
      "execution_count": null,
      "outputs": []
    },
    {
      "cell_type": "code",
      "source": [
        "shopping_cart[0] = 'apple'\n",
        "new_shopping_cart = shopping_cart.copy()\n",
        "new_shopping_cart[0]='kiwi'\n",
        "print(shopping_cart)\n",
        "print(new_shopping_cart)"
      ],
      "metadata": {
        "id": "EPG06yv5EQxl"
      },
      "execution_count": null,
      "outputs": []
    },
    {
      "cell_type": "code",
      "source": [
        "shopping_cart[0] = 'apple'\n",
        "new_shopping_cart = shopping_cart\n",
        "new_shopping_cart[0]='kiwi'\n",
        "print(shopping_cart)\n",
        "print(new_shopping_cart)"
      ],
      "metadata": {
        "id": "YnYI02owEj9O"
      },
      "execution_count": null,
      "outputs": []
    },
    {
      "cell_type": "code",
      "source": [
        "new_shopping_cart[:2]"
      ],
      "metadata": {
        "id": "q_We3EiMEnmf"
      },
      "execution_count": null,
      "outputs": []
    },
    {
      "cell_type": "code",
      "source": [
        "shopping_cart.count('apple')"
      ],
      "metadata": {
        "id": "V7gzlxd-E0gu"
      },
      "execution_count": null,
      "outputs": []
    },
    {
      "cell_type": "markdown",
      "source": [
        "##1.7 List Method and Matrix"
      ],
      "metadata": {
        "id": "L58wTIXKFEZF"
      }
    },
    {
      "cell_type": "code",
      "source": [
        "len(shopping_cart)"
      ],
      "metadata": {
        "id": "7MxESSQBPP42"
      },
      "execution_count": null,
      "outputs": []
    },
    {
      "cell_type": "code",
      "source": [
        "simple_list =['a','b','c','d','e']\n",
        "simple_list.index('c')"
      ],
      "metadata": {
        "id": "jcQPqmAdPXUn"
      },
      "execution_count": null,
      "outputs": []
    },
    {
      "cell_type": "code",
      "source": [
        "simple_list.insert(3,'f')\n",
        "print(simple_list)"
      ],
      "metadata": {
        "id": "KhpCAdguPl3v"
      },
      "execution_count": null,
      "outputs": []
    },
    {
      "cell_type": "code",
      "source": [
        "simple_list.sort()\n",
        "print(simple_list)"
      ],
      "metadata": {
        "id": "QX9fL21wPtMn"
      },
      "execution_count": null,
      "outputs": []
    },
    {
      "cell_type": "code",
      "source": [
        "print('x' in simple_list)"
      ],
      "metadata": {
        "id": "8BlSJuW7Pw0H"
      },
      "execution_count": null,
      "outputs": []
    },
    {
      "cell_type": "code",
      "source": [
        "print('a' in simple_list)"
      ],
      "metadata": {
        "id": "Hv3ohcC1P4I3"
      },
      "execution_count": null,
      "outputs": []
    },
    {
      "cell_type": "code",
      "source": [
        "simple_list.count('d')"
      ],
      "metadata": {
        "id": "ON2iO31oP7Hf"
      },
      "execution_count": null,
      "outputs": []
    },
    {
      "cell_type": "code",
      "source": [
        "simple_list.remove('d')\n",
        "print(simple_list)"
      ],
      "metadata": {
        "id": "Qpq88QmzQBoH"
      },
      "execution_count": null,
      "outputs": []
    },
    {
      "cell_type": "code",
      "source": [
        "simple_list.append('a')\n",
        "print(simple_list)"
      ],
      "metadata": {
        "id": "_e6Kl8dsQEK3"
      },
      "execution_count": null,
      "outputs": []
    },
    {
      "cell_type": "code",
      "source": [
        "print(sorted(simple_list))\n",
        "print(simple_list)"
      ],
      "metadata": {
        "id": "pTt5N-8-QMH_"
      },
      "execution_count": null,
      "outputs": []
    },
    {
      "cell_type": "code",
      "source": [
        "simple_list.sort()\n",
        "print(simple_list)"
      ],
      "metadata": {
        "id": "Dm4fDNf9Qhye"
      },
      "execution_count": null,
      "outputs": []
    },
    {
      "cell_type": "code",
      "source": [
        "simple_list.reverse()\n",
        "print(simple_list)"
      ],
      "metadata": {
        "id": "Gn30kA7nQndG"
      },
      "execution_count": null,
      "outputs": []
    },
    {
      "cell_type": "code",
      "source": [
        "print(range(10))"
      ],
      "metadata": {
        "id": "Hqv42mrRQs9n"
      },
      "execution_count": null,
      "outputs": []
    },
    {
      "cell_type": "code",
      "source": [
        "print(len(range(10)))"
      ],
      "metadata": {
        "id": "XS_fCc59Q0wr"
      },
      "execution_count": null,
      "outputs": []
    },
    {
      "cell_type": "code",
      "source": [
        "sentence = ''\n",
        "sentence.join(['hi', 'my', 'name', 'is', 'John'])\n",
        "print(sentence)"
      ],
      "metadata": {
        "id": "gKcPMLBkQ9Um"
      },
      "execution_count": null,
      "outputs": []
    },
    {
      "cell_type": "code",
      "source": [
        "sentence = ''\n",
        "new = sentence.join(['hi', 'my', 'name', 'is', 'John'])\n",
        "print(new)"
      ],
      "metadata": {
        "id": "T4YyZcCCRNo3"
      },
      "execution_count": null,
      "outputs": []
    },
    {
      "cell_type": "code",
      "source": [
        "sentence = ' '\n",
        "new = sentence.join(['hi', 'my', 'name', 'is', 'John'])\n",
        "print(new)"
      ],
      "metadata": {
        "id": "LOovAmXdRSkW"
      },
      "execution_count": null,
      "outputs": []
    },
    {
      "cell_type": "code",
      "source": [
        "#Unpack list\n",
        "a,b,c,d,e = ['a', 'a', 'b', 'c', 'e']\n",
        "print(a,b,c,d,e)"
      ],
      "metadata": {
        "id": "cn57BDn-RWpn"
      },
      "execution_count": null,
      "outputs": []
    },
    {
      "cell_type": "code",
      "source": [
        "a,b,*c = ['a', 'a', 'b', 'c', 'e']\n",
        "print(a,b,c)"
      ],
      "metadata": {
        "id": "NefBAqgzRxtf"
      },
      "execution_count": null,
      "outputs": []
    },
    {
      "cell_type": "code",
      "source": [
        "a,b,*c,e = ['a', 'a', 'b', 'c', 'e', 'f']\n",
        "print(a,b,c,e)\n"
      ],
      "metadata": {
        "id": "WDlgAPodR7xl"
      },
      "execution_count": null,
      "outputs": []
    },
    {
      "cell_type": "code",
      "source": [
        "matrix = [[1,2,3],[4,5,6],[7,8,9]]\n",
        "print(matrix)"
      ],
      "metadata": {
        "id": "KA_L42FtSGOw"
      },
      "execution_count": null,
      "outputs": []
    },
    {
      "cell_type": "code",
      "source": [
        "print(matrix[0])"
      ],
      "metadata": {
        "id": "VyPPQniiSQbP"
      },
      "execution_count": null,
      "outputs": []
    },
    {
      "cell_type": "code",
      "source": [
        "print(matrix[0][2])"
      ],
      "metadata": {
        "id": "alDUfkrSSVdn"
      },
      "execution_count": null,
      "outputs": []
    },
    {
      "cell_type": "markdown",
      "source": [
        "##1.8 Dictionary"
      ],
      "metadata": {
        "id": "pTSuFdxlSa6m"
      }
    },
    {
      "cell_type": "code",
      "source": [
        "dictionary = {'a':1,'b':2,'c':3}\n",
        "print(dictionary)\n",
        "print(type(dictionary))"
      ],
      "metadata": {
        "id": "IKO3f4aCrFOU"
      },
      "execution_count": null,
      "outputs": []
    },
    {
      "cell_type": "code",
      "source": [
        "print(dictionary['b'])"
      ],
      "metadata": {
        "id": "G7K8V_BErJ5U"
      },
      "execution_count": null,
      "outputs": []
    },
    {
      "cell_type": "code",
      "source": [
        "dictionary = {\n",
        "    'a':[1,2,3],\n",
        "    'b':\"hello\",\n",
        "    'c': True,\n",
        "    'd':4}\n",
        "print(dictionary)"
      ],
      "metadata": {
        "id": "hbZX72yPrPGy"
      },
      "execution_count": null,
      "outputs": []
    },
    {
      "cell_type": "code",
      "source": [
        "print(dictionary['a'][0])"
      ],
      "metadata": {
        "id": "sClAZgjcreWi"
      },
      "execution_count": null,
      "outputs": []
    },
    {
      "cell_type": "code",
      "source": [
        "print(dictionary['a'])"
      ],
      "metadata": {
        "id": "9hPIrvuYrn2j"
      },
      "execution_count": null,
      "outputs": []
    },
    {
      "cell_type": "code",
      "source": [
        "list1 = [\n",
        "    {\n",
        "    'a':[1,2,3],\n",
        "    'b':\"hello\",\n",
        "    'c': True,\n",
        "    'd':4},\n",
        "    {\n",
        "    'a':[4,5,6],\n",
        "    'b':\"hello\",\n",
        "    'c': True,\n",
        "    'd':4},\n",
        "    {\n",
        "    'a':[7,8,9],\n",
        "    'b':\"hello\",\n",
        "    'c': True,\n",
        "    'd':4}\n",
        "]"
      ],
      "metadata": {
        "id": "sV5l4s_Erqdj"
      },
      "execution_count": null,
      "outputs": []
    },
    {
      "cell_type": "code",
      "source": [
        "print(list1[1]['a'])"
      ],
      "metadata": {
        "id": "P2o4KDxFr6xU"
      },
      "execution_count": null,
      "outputs": []
    },
    {
      "cell_type": "code",
      "source": [
        "person = {\n",
        "    'name':'Myname',\n",
        "    'age' : 20,\n",
        "    'is_man':True\n",
        "}\n",
        "print(person)"
      ],
      "metadata": {
        "id": "HiXBiy9ksBB5"
      },
      "execution_count": null,
      "outputs": []
    },
    {
      "cell_type": "code",
      "source": [
        "person = {\n",
        "    'name':'Myname',\n",
        "    True : 20,\n",
        "    'is_man':True\n",
        "}"
      ],
      "metadata": {
        "id": "Z1Q74EOhsXO7"
      },
      "execution_count": null,
      "outputs": []
    },
    {
      "cell_type": "code",
      "source": [
        "person = {\n",
        "    'name':'Myname',\n",
        "    True : 20,\n",
        "    12:True\n",
        "}"
      ],
      "metadata": {
        "id": "B4MNRfsnsitD"
      },
      "execution_count": null,
      "outputs": []
    },
    {
      "cell_type": "code",
      "source": [
        "print(person[True])"
      ],
      "metadata": {
        "id": "4sm1LC0ksl56"
      },
      "execution_count": null,
      "outputs": []
    },
    {
      "cell_type": "code",
      "source": [
        "print(person[12])"
      ],
      "metadata": {
        "id": "6YB2AUhvsoFz"
      },
      "execution_count": null,
      "outputs": []
    },
    {
      "cell_type": "code",
      "source": [
        "person = {\n",
        "    'name':'Myname',\n",
        "    'age' : 20,\n",
        "    'name':True\n",
        "}\n",
        "print(person)"
      ],
      "metadata": {
        "id": "OwoEF2Xbsq9L"
      },
      "execution_count": null,
      "outputs": []
    },
    {
      "cell_type": "code",
      "source": [
        "person = {\n",
        "    'name':'Myname',\n",
        "    'age' : 20,\n",
        "    'is_man':True\n",
        "}\n",
        "print(person)\n"
      ],
      "metadata": {
        "id": "gJpPMTXds1Mi"
      },
      "execution_count": null,
      "outputs": []
    },
    {
      "cell_type": "code",
      "source": [
        "person['name'] = 'newname'\n",
        "print(person)"
      ],
      "metadata": {
        "id": "llwLfEuMs9Rz"
      },
      "execution_count": null,
      "outputs": []
    },
    {
      "cell_type": "code",
      "source": [
        "print(person.keys())"
      ],
      "metadata": {
        "id": "4X6tdVmptBn8"
      },
      "execution_count": null,
      "outputs": []
    },
    {
      "cell_type": "code",
      "source": [
        "print(person.get('x'))"
      ],
      "metadata": {
        "id": "e1kEn8CLtRij"
      },
      "execution_count": null,
      "outputs": []
    },
    {
      "cell_type": "code",
      "source": [
        "person['x']"
      ],
      "metadata": {
        "id": "keu952SttZQ0"
      },
      "execution_count": null,
      "outputs": []
    },
    {
      "cell_type": "code",
      "source": [
        "person['x'] = 12\n",
        "print(person)"
      ],
      "metadata": {
        "id": "GbOczsm2tb0j"
      },
      "execution_count": null,
      "outputs": []
    },
    {
      "cell_type": "code",
      "source": [
        "dict2 = dict(name='John',age=20)\n",
        "print(dict2)"
      ],
      "metadata": {
        "id": "ZpNyjjdFtiTi"
      },
      "execution_count": null,
      "outputs": []
    },
    {
      "cell_type": "code",
      "source": [
        "print('age' in person)"
      ],
      "metadata": {
        "id": "zpK_FV1Ktpp7"
      },
      "execution_count": null,
      "outputs": []
    },
    {
      "cell_type": "code",
      "source": [
        "print('y' in person)"
      ],
      "metadata": {
        "id": "Y6sIA03qtyuT"
      },
      "execution_count": null,
      "outputs": []
    },
    {
      "cell_type": "code",
      "source": [
        "print('y' in person.values())"
      ],
      "metadata": {
        "id": "4AgRfoGrt0hL"
      },
      "execution_count": null,
      "outputs": []
    },
    {
      "cell_type": "code",
      "source": [
        "print(20 in person.values())"
      ],
      "metadata": {
        "id": "0r1pa5h5t9d0"
      },
      "execution_count": null,
      "outputs": []
    },
    {
      "cell_type": "code",
      "source": [
        "print('age' in person.values())"
      ],
      "metadata": {
        "id": "oLbRceZRuBob"
      },
      "execution_count": null,
      "outputs": []
    },
    {
      "cell_type": "code",
      "source": [
        "print(person.items())"
      ],
      "metadata": {
        "id": "PSLZE_sSuEs9"
      },
      "execution_count": null,
      "outputs": []
    },
    {
      "cell_type": "code",
      "source": [
        "person"
      ],
      "metadata": {
        "id": "cug8EBQxuJXC"
      },
      "execution_count": null,
      "outputs": []
    },
    {
      "cell_type": "code",
      "source": [
        "person.pop('age')"
      ],
      "metadata": {
        "id": "i56R5zhTuOcU"
      },
      "execution_count": null,
      "outputs": []
    },
    {
      "cell_type": "code",
      "source": [
        "person"
      ],
      "metadata": {
        "id": "PBnPkU_9uSfD"
      },
      "execution_count": null,
      "outputs": []
    },
    {
      "cell_type": "code",
      "source": [
        "person = {\n",
        "    'name':'Myname',\n",
        "    'age' : 20,\n",
        "    'is_man':True\n",
        "}\n",
        "print(person)\n"
      ],
      "metadata": {
        "colab": {
          "base_uri": "https://localhost:8080/"
        },
        "id": "KpibgalCuTgK",
        "outputId": "16a95574-6271-4c5b-edc1-d540ea9deb19"
      },
      "execution_count": null,
      "outputs": [
        {
          "output_type": "stream",
          "name": "stdout",
          "text": [
            "{'name': 'Myname', 'age': 20, 'is_man': True}\n"
          ]
        }
      ]
    },
    {
      "cell_type": "code",
      "source": [
        "person.update({'age':25})\n",
        "print(person)"
      ],
      "metadata": {
        "id": "T5XYYu7jubkL"
      },
      "execution_count": null,
      "outputs": []
    },
    {
      "cell_type": "code",
      "source": [
        "person.update({'ages':30})\n",
        "print(person)"
      ],
      "metadata": {
        "id": "_66piwQuuh40"
      },
      "execution_count": null,
      "outputs": []
    },
    {
      "cell_type": "markdown",
      "source": [
        "## 1.9 Tuple"
      ],
      "metadata": {
        "id": "T218M4Gouk2r"
      }
    },
    {
      "cell_type": "code",
      "source": [
        "my_tuple = (1,2,3,4,5)\n",
        "print(my_tuple)\n",
        "print(type(my_tuple))"
      ],
      "metadata": {
        "colab": {
          "base_uri": "https://localhost:8080/"
        },
        "id": "TT1cnXvGsWPt",
        "outputId": "c417a91a-e5a2-4c62-ccaf-f4e46c0c3c7a"
      },
      "execution_count": null,
      "outputs": [
        {
          "output_type": "stream",
          "name": "stdout",
          "text": [
            "(1, 2, 3, 4, 5)\n",
            "<class 'tuple'>\n"
          ]
        }
      ]
    },
    {
      "cell_type": "code",
      "source": [
        "my_tuple[0]"
      ],
      "metadata": {
        "colab": {
          "base_uri": "https://localhost:8080/"
        },
        "collapsed": true,
        "id": "sg5JkiQusWKl",
        "outputId": "3e3f2c92-7b1d-4287-a60d-0bbe12bb9f45"
      },
      "execution_count": null,
      "outputs": [
        {
          "output_type": "execute_result",
          "data": {
            "text/plain": [
              "1"
            ]
          },
          "metadata": {},
          "execution_count": 3
        }
      ]
    },
    {
      "cell_type": "code",
      "source": [
        "my_tuple[0] = 20"
      ],
      "metadata": {
        "colab": {
          "base_uri": "https://localhost:8080/",
          "height": 141
        },
        "collapsed": true,
        "id": "ZFAyQcAzsxMl",
        "outputId": "74054fb0-e1a1-4e84-f777-1c9b98254eea"
      },
      "execution_count": null,
      "outputs": [
        {
          "output_type": "error",
          "ename": "TypeError",
          "evalue": "'tuple' object does not support item assignment",
          "traceback": [
            "\u001b[0;31m---------------------------------------------------------------------------\u001b[0m",
            "\u001b[0;31mTypeError\u001b[0m                                 Traceback (most recent call last)",
            "\u001b[0;32m<ipython-input-4-d398a59f4676>\u001b[0m in \u001b[0;36m<cell line: 1>\u001b[0;34m()\u001b[0m\n\u001b[0;32m----> 1\u001b[0;31m \u001b[0mmy_tuple\u001b[0m\u001b[0;34m[\u001b[0m\u001b[0;36m0\u001b[0m\u001b[0;34m]\u001b[0m \u001b[0;34m=\u001b[0m \u001b[0;36m20\u001b[0m\u001b[0;34m\u001b[0m\u001b[0;34m\u001b[0m\u001b[0m\n\u001b[0m",
            "\u001b[0;31mTypeError\u001b[0m: 'tuple' object does not support item assignment"
          ]
        }
      ]
    },
    {
      "cell_type": "code",
      "source": [
        "print( 4 in my_tuple)"
      ],
      "metadata": {
        "colab": {
          "base_uri": "https://localhost:8080/"
        },
        "id": "1Y4gahuqs08t",
        "outputId": "f76e1536-a266-4df6-e794-6568c2e415aa"
      },
      "execution_count": null,
      "outputs": [
        {
          "output_type": "stream",
          "name": "stdout",
          "text": [
            "True\n"
          ]
        }
      ]
    },
    {
      "cell_type": "code",
      "source": [
        "lat_log = (10,20)\n",
        "print(lat_log)"
      ],
      "metadata": {
        "colab": {
          "base_uri": "https://localhost:8080/"
        },
        "id": "TxjhhbxLs_XE",
        "outputId": "db71bbca-cbec-4a25-886c-b18fd205f60c"
      },
      "execution_count": null,
      "outputs": [
        {
          "output_type": "stream",
          "name": "stdout",
          "text": [
            "(10, 20)\n"
          ]
        }
      ]
    },
    {
      "cell_type": "code",
      "source": [
        "person"
      ],
      "metadata": {
        "colab": {
          "base_uri": "https://localhost:8080/"
        },
        "id": "MpEtQS3dzjLl",
        "outputId": "585ba024-79a8-493e-bbe9-27b34fd46f4f"
      },
      "execution_count": null,
      "outputs": [
        {
          "output_type": "execute_result",
          "data": {
            "text/plain": [
              "{'name': 'Myname', 'age': 20, 'is_man': True}"
            ]
          },
          "metadata": {},
          "execution_count": 7
        }
      ]
    },
    {
      "cell_type": "code",
      "source": [
        "print(person.items())"
      ],
      "metadata": {
        "colab": {
          "base_uri": "https://localhost:8080/"
        },
        "id": "gBDXmMBZtJW0",
        "outputId": "4245a917-a36f-40b1-f59d-229f94aa14b4"
      },
      "execution_count": null,
      "outputs": [
        {
          "output_type": "stream",
          "name": "stdout",
          "text": [
            "dict_items([('name', 'Myname'), ('age', 20), ('is_man', True)])\n"
          ]
        }
      ]
    },
    {
      "cell_type": "code",
      "source": [
        "new_tuple = my_tuple[1:4]\n",
        "print(new_tuple)"
      ],
      "metadata": {
        "colab": {
          "base_uri": "https://localhost:8080/"
        },
        "id": "zAdKnbMqtUS0",
        "outputId": "1913f86b-ca4c-41a7-c73b-2f0313dcea92"
      },
      "execution_count": null,
      "outputs": [
        {
          "output_type": "stream",
          "name": "stdout",
          "text": [
            "(2, 3, 4)\n"
          ]
        }
      ]
    },
    {
      "cell_type": "code",
      "source": [
        "a, b, *c = (1,2,3,4,5,6,7)\n",
        "print(a,b,c)"
      ],
      "metadata": {
        "colab": {
          "base_uri": "https://localhost:8080/"
        },
        "id": "uO318Y0dtk_8",
        "outputId": "08e03267-1db5-4ec5-f2e9-3afeca0c9bd2"
      },
      "execution_count": null,
      "outputs": [
        {
          "output_type": "stream",
          "name": "stdout",
          "text": [
            "1 2 [3, 4, 5, 6, 7]\n"
          ]
        }
      ]
    },
    {
      "cell_type": "code",
      "source": [
        "my_tuple.count(1)"
      ],
      "metadata": {
        "colab": {
          "base_uri": "https://localhost:8080/"
        },
        "id": "NmcnNOwDtk9E",
        "outputId": "91a45f40-7f5e-4226-c84e-da443eda82ec"
      },
      "execution_count": null,
      "outputs": [
        {
          "output_type": "execute_result",
          "data": {
            "text/plain": [
              "1"
            ]
          },
          "metadata": {},
          "execution_count": 11
        }
      ]
    },
    {
      "cell_type": "code",
      "source": [
        "my_tuple.index(2)"
      ],
      "metadata": {
        "colab": {
          "base_uri": "https://localhost:8080/"
        },
        "id": "8iG_HQgZt97V",
        "outputId": "f4950097-0ca5-4977-fed0-dc26337989cb"
      },
      "execution_count": null,
      "outputs": [
        {
          "output_type": "execute_result",
          "data": {
            "text/plain": [
              "1"
            ]
          },
          "metadata": {},
          "execution_count": 12
        }
      ]
    },
    {
      "cell_type": "code",
      "source": [
        "my_tuple.index(10)"
      ],
      "metadata": {
        "colab": {
          "base_uri": "https://localhost:8080/",
          "height": 141
        },
        "id": "pOY4Gscatk58",
        "outputId": "0b57ab15-d991-4ac1-97f2-ad4b43fea9e8"
      },
      "execution_count": null,
      "outputs": [
        {
          "output_type": "error",
          "ename": "ValueError",
          "evalue": "tuple.index(x): x not in tuple",
          "traceback": [
            "\u001b[0;31m---------------------------------------------------------------------------\u001b[0m",
            "\u001b[0;31mValueError\u001b[0m                                Traceback (most recent call last)",
            "\u001b[0;32m<ipython-input-13-a211712fca7e>\u001b[0m in \u001b[0;36m<cell line: 1>\u001b[0;34m()\u001b[0m\n\u001b[0;32m----> 1\u001b[0;31m \u001b[0mmy_tuple\u001b[0m\u001b[0;34m.\u001b[0m\u001b[0mindex\u001b[0m\u001b[0;34m(\u001b[0m\u001b[0;36m10\u001b[0m\u001b[0;34m)\u001b[0m\u001b[0;34m\u001b[0m\u001b[0;34m\u001b[0m\u001b[0m\n\u001b[0m",
            "\u001b[0;31mValueError\u001b[0m: tuple.index(x): x not in tuple"
          ]
        }
      ]
    },
    {
      "cell_type": "code",
      "source": [
        "len(my_tuple)"
      ],
      "metadata": {
        "colab": {
          "base_uri": "https://localhost:8080/"
        },
        "id": "9TyKUp_Xtk2t",
        "outputId": "f088b9c9-ed5e-4678-ac5e-066c3b90e37f"
      },
      "execution_count": null,
      "outputs": [
        {
          "output_type": "execute_result",
          "data": {
            "text/plain": [
              "5"
            ]
          },
          "metadata": {},
          "execution_count": 14
        }
      ]
    },
    {
      "cell_type": "markdown",
      "source": [
        "## 1.10 Sets"
      ],
      "metadata": {
        "id": "oqxHjA8lsWH8"
      }
    },
    {
      "cell_type": "code",
      "source": [
        "my_set = {1,2,3,4,5}\n",
        "print(my_set)\n",
        "print(type(my_set))"
      ],
      "metadata": {
        "colab": {
          "base_uri": "https://localhost:8080/"
        },
        "id": "19h5n7_csWE9",
        "outputId": "2043e99c-cb60-432e-fb1e-d33182a4e7b1"
      },
      "execution_count": null,
      "outputs": [
        {
          "output_type": "stream",
          "name": "stdout",
          "text": [
            "{1, 2, 3, 4, 5}\n",
            "<class 'set'>\n"
          ]
        }
      ]
    },
    {
      "cell_type": "code",
      "source": [
        "my_set = {1,2,3,4,5,5}\n",
        "print(my_set)\n",
        "print(type(my_set))"
      ],
      "metadata": {
        "colab": {
          "base_uri": "https://localhost:8080/"
        },
        "id": "qGqDxbpmse0V",
        "outputId": "16568343-4b70-4f4f-900b-699836e55db0"
      },
      "execution_count": null,
      "outputs": [
        {
          "output_type": "stream",
          "name": "stdout",
          "text": [
            "{1, 2, 3, 4, 5}\n",
            "<class 'set'>\n"
          ]
        }
      ]
    },
    {
      "cell_type": "code",
      "source": [
        "my_set.add(32)\n",
        "my_set.add(2)\n",
        "print(my_set)"
      ],
      "metadata": {
        "colab": {
          "base_uri": "https://localhost:8080/"
        },
        "id": "K__zMAJVsert",
        "outputId": "4d41b293-4e6e-450d-cc34-a7901bc05de1"
      },
      "execution_count": null,
      "outputs": [
        {
          "output_type": "stream",
          "name": "stdout",
          "text": [
            "{32, 1, 2, 3, 4, 5}\n"
          ]
        }
      ]
    },
    {
      "cell_type": "code",
      "source": [
        "my_list = [1,2,3,4,5,5]\n",
        "print(my_list)\n",
        "print(type(my_list))"
      ],
      "metadata": {
        "colab": {
          "base_uri": "https://localhost:8080/"
        },
        "id": "fEALN2b8semV",
        "outputId": "62a2aa18-ce3e-4140-a411-152c4bcdf3d9"
      },
      "execution_count": null,
      "outputs": [
        {
          "output_type": "stream",
          "name": "stdout",
          "text": [
            "[1, 2, 3, 4, 5, 5]\n",
            "<class 'list'>\n"
          ]
        }
      ]
    },
    {
      "cell_type": "code",
      "source": [
        "print(set(my_list))"
      ],
      "metadata": {
        "colab": {
          "base_uri": "https://localhost:8080/"
        },
        "id": "oqmN7p6IurpW",
        "outputId": "a0dbb8ec-ca95-4f19-c16a-7045a118fe2f"
      },
      "execution_count": null,
      "outputs": [
        {
          "output_type": "stream",
          "name": "stdout",
          "text": [
            "{1, 2, 3, 4, 5}\n"
          ]
        }
      ]
    },
    {
      "cell_type": "code",
      "source": [
        "print(my_set[0])"
      ],
      "metadata": {
        "colab": {
          "base_uri": "https://localhost:8080/",
          "height": 141
        },
        "id": "sy6F-yBRuvp-",
        "outputId": "b91ef7f5-a59f-4e21-889e-ef9e136e40ea"
      },
      "execution_count": null,
      "outputs": [
        {
          "output_type": "error",
          "ename": "TypeError",
          "evalue": "'set' object is not subscriptable",
          "traceback": [
            "\u001b[0;31m---------------------------------------------------------------------------\u001b[0m",
            "\u001b[0;31mTypeError\u001b[0m                                 Traceback (most recent call last)",
            "\u001b[0;32m<ipython-input-20-502d757570ee>\u001b[0m in \u001b[0;36m<cell line: 1>\u001b[0;34m()\u001b[0m\n\u001b[0;32m----> 1\u001b[0;31m \u001b[0mprint\u001b[0m\u001b[0;34m(\u001b[0m\u001b[0mmy_set\u001b[0m\u001b[0;34m[\u001b[0m\u001b[0;36m0\u001b[0m\u001b[0;34m]\u001b[0m\u001b[0;34m)\u001b[0m\u001b[0;34m\u001b[0m\u001b[0;34m\u001b[0m\u001b[0m\n\u001b[0m",
            "\u001b[0;31mTypeError\u001b[0m: 'set' object is not subscriptable"
          ]
        }
      ]
    },
    {
      "cell_type": "code",
      "source": [
        "my_set = {1,2,3,4,5}\n",
        "new_set = my_set.copy()\n",
        "new_set.add(32)\n",
        "print(my_set)\n",
        "print(new_set)"
      ],
      "metadata": {
        "colab": {
          "base_uri": "https://localhost:8080/"
        },
        "id": "8mS9Hr26u1q1",
        "outputId": "90493b2a-8e08-4562-b0e7-8fa728c67ee8"
      },
      "execution_count": null,
      "outputs": [
        {
          "output_type": "stream",
          "name": "stdout",
          "text": [
            "{1, 2, 3, 4, 5}\n",
            "{32, 1, 2, 3, 4, 5}\n"
          ]
        }
      ]
    },
    {
      "cell_type": "code",
      "source": [
        "my_set = {1,2,3,4,5}\n",
        "new_set = my_set\n",
        "new_set.add(32)\n",
        "print(my_set)\n",
        "print(new_set)"
      ],
      "metadata": {
        "colab": {
          "base_uri": "https://localhost:8080/"
        },
        "id": "y5I7g_fi0VDV",
        "outputId": "f630f9b4-c31b-46aa-b880-2b920174f789"
      },
      "execution_count": null,
      "outputs": [
        {
          "output_type": "stream",
          "name": "stdout",
          "text": [
            "{32, 1, 2, 3, 4, 5}\n",
            "{32, 1, 2, 3, 4, 5}\n"
          ]
        }
      ]
    },
    {
      "cell_type": "code",
      "source": [
        "my_set1 = {1,2,3,4,5}\n",
        "my_set2 = {4,5,6,7,8}"
      ],
      "metadata": {
        "id": "39-M5Ji6vCQG"
      },
      "execution_count": null,
      "outputs": []
    },
    {
      "cell_type": "code",
      "source": [
        "my_set1.difference(my_set2)"
      ],
      "metadata": {
        "colab": {
          "base_uri": "https://localhost:8080/"
        },
        "id": "C0HNhy6TvNtW",
        "outputId": "99f8898a-fe4f-44cb-add1-67a0156a70a6"
      },
      "execution_count": null,
      "outputs": [
        {
          "output_type": "execute_result",
          "data": {
            "text/plain": [
              "{1, 2, 3}"
            ]
          },
          "metadata": {},
          "execution_count": 24
        }
      ]
    },
    {
      "cell_type": "code",
      "source": [
        "my_set1.discard(2)"
      ],
      "metadata": {
        "id": "TftkjO_xvRIF"
      },
      "execution_count": null,
      "outputs": []
    },
    {
      "cell_type": "code",
      "source": [
        "my_set1"
      ],
      "metadata": {
        "colab": {
          "base_uri": "https://localhost:8080/"
        },
        "id": "gGWT6fw2vZz0",
        "outputId": "a0a47e2c-a1fb-4b17-f81d-7c42a5b9ee73"
      },
      "execution_count": null,
      "outputs": [
        {
          "output_type": "execute_result",
          "data": {
            "text/plain": [
              "{1, 3, 4, 5}"
            ]
          },
          "metadata": {},
          "execution_count": 28
        }
      ]
    },
    {
      "cell_type": "code",
      "source": [
        "my_set1 = {1,2,3,4,5}\n",
        "my_set2 = {4,5,6,7,8}"
      ],
      "metadata": {
        "id": "wHESWuzAvbBU"
      },
      "execution_count": null,
      "outputs": []
    },
    {
      "cell_type": "code",
      "source": [
        "my_set1.difference(my_set2)"
      ],
      "metadata": {
        "colab": {
          "base_uri": "https://localhost:8080/"
        },
        "id": "ThLrPQZMvgL0",
        "outputId": "4b29be4e-ee1c-4c11-c2e4-d83964cd59be"
      },
      "execution_count": null,
      "outputs": [
        {
          "output_type": "execute_result",
          "data": {
            "text/plain": [
              "{1, 2, 3}"
            ]
          },
          "metadata": {},
          "execution_count": 30
        }
      ]
    },
    {
      "cell_type": "code",
      "source": [
        "my_set1"
      ],
      "metadata": {
        "colab": {
          "base_uri": "https://localhost:8080/"
        },
        "id": "WFzEOZE1vi88",
        "outputId": "eabd4849-735b-4bd2-fa95-24d1826edc12"
      },
      "execution_count": null,
      "outputs": [
        {
          "output_type": "execute_result",
          "data": {
            "text/plain": [
              "{1, 2, 3, 4, 5}"
            ]
          },
          "metadata": {},
          "execution_count": 31
        }
      ]
    },
    {
      "cell_type": "code",
      "source": [
        "my_set1.difference_update(my_set2)"
      ],
      "metadata": {
        "id": "64JzQZDmvklE"
      },
      "execution_count": null,
      "outputs": []
    },
    {
      "cell_type": "code",
      "source": [
        "my_set1"
      ],
      "metadata": {
        "colab": {
          "base_uri": "https://localhost:8080/"
        },
        "id": "CUe8I6sVvoq1",
        "outputId": "dec9ec08-d710-4ea5-ad29-3c5c95dbe5f8"
      },
      "execution_count": null,
      "outputs": [
        {
          "output_type": "execute_result",
          "data": {
            "text/plain": [
              "{1, 2, 3}"
            ]
          },
          "metadata": {},
          "execution_count": 33
        }
      ]
    },
    {
      "cell_type": "code",
      "source": [
        "my_set1 = {1,2,3,4,5}\n",
        "my_set2 = {4,5,6,7,8}"
      ],
      "metadata": {
        "id": "53NZWLGOvqTt"
      },
      "execution_count": null,
      "outputs": []
    },
    {
      "cell_type": "code",
      "source": [
        "my_set1.intersection(my_set2)"
      ],
      "metadata": {
        "colab": {
          "base_uri": "https://localhost:8080/"
        },
        "id": "w00gmlxjvsre",
        "outputId": "f3cd85d1-c383-49ad-eade-0031c20f46e7"
      },
      "execution_count": null,
      "outputs": [
        {
          "output_type": "execute_result",
          "data": {
            "text/plain": [
              "{4, 5}"
            ]
          },
          "metadata": {},
          "execution_count": 35
        }
      ]
    },
    {
      "cell_type": "code",
      "source": [
        "my_set1.isdisjoint(my_set2)"
      ],
      "metadata": {
        "colab": {
          "base_uri": "https://localhost:8080/"
        },
        "id": "A5rx3TIbvvQ0",
        "outputId": "04130311-a155-4def-c4df-a503a8d98d6a"
      },
      "execution_count": null,
      "outputs": [
        {
          "output_type": "execute_result",
          "data": {
            "text/plain": [
              "False"
            ]
          },
          "metadata": {},
          "execution_count": 36
        }
      ]
    },
    {
      "cell_type": "code",
      "source": [
        "my_set1 = {4,5}\n",
        "my_set2 = {4,5,6,7,8}"
      ],
      "metadata": {
        "id": "RSs0Y4qBv2xN"
      },
      "execution_count": null,
      "outputs": []
    },
    {
      "cell_type": "code",
      "source": [
        "my_set1.issubset(my_set2)"
      ],
      "metadata": {
        "colab": {
          "base_uri": "https://localhost:8080/"
        },
        "id": "F4QcItCdv7rF",
        "outputId": "c7341c9a-4421-410d-d6e1-aa4bf53193e3"
      },
      "execution_count": null,
      "outputs": [
        {
          "output_type": "execute_result",
          "data": {
            "text/plain": [
              "True"
            ]
          },
          "metadata": {},
          "execution_count": 38
        }
      ]
    },
    {
      "cell_type": "code",
      "source": [
        "my_set1 = {3,4,5}\n",
        "my_set2 = {4,5,6,7,8}\n",
        "my_set1.issubset(my_set2)"
      ],
      "metadata": {
        "colab": {
          "base_uri": "https://localhost:8080/"
        },
        "id": "-6wegAp5v9ve",
        "outputId": "3d8658b2-eb02-4574-944a-47442441f1d4"
      },
      "execution_count": null,
      "outputs": [
        {
          "output_type": "execute_result",
          "data": {
            "text/plain": [
              "False"
            ]
          },
          "metadata": {},
          "execution_count": 39
        }
      ]
    },
    {
      "cell_type": "code",
      "source": [
        "my_set1 = {4,5}\n",
        "my_set2 = {4,5,6,7,8}\n",
        "my_set1.issuperset(my_set2)\n",
        "#"
      ],
      "metadata": {
        "colab": {
          "base_uri": "https://localhost:8080/"
        },
        "id": "eLKuROdWwBzu",
        "outputId": "08a013f0-e1d7-42ee-d05e-3aa4f002e62d"
      },
      "execution_count": null,
      "outputs": [
        {
          "output_type": "execute_result",
          "data": {
            "text/plain": [
              "False"
            ]
          },
          "metadata": {},
          "execution_count": 40
        }
      ]
    },
    {
      "cell_type": "code",
      "source": [
        "my_set1 = {4,5}\n",
        "my_set2 = {4,5,6,7,8}\n",
        "my_set2.issuperset(my_set1)"
      ],
      "metadata": {
        "colab": {
          "base_uri": "https://localhost:8080/"
        },
        "id": "oZWDR51_wGnd",
        "outputId": "ca89d6be-ca7b-48a4-c84a-848eb9cc6b31"
      },
      "execution_count": null,
      "outputs": [
        {
          "output_type": "execute_result",
          "data": {
            "text/plain": [
              "True"
            ]
          },
          "metadata": {},
          "execution_count": 41
        }
      ]
    },
    {
      "cell_type": "markdown",
      "source": [
        "# 2.Control Statement , Function and so on"
      ],
      "metadata": {
        "id": "luLxUovPwJZ2"
      }
    },
    {
      "cell_type": "markdown",
      "source": [
        "##2.1 Conditional Logic"
      ],
      "metadata": {
        "id": "4WbR17g2D-nU"
      }
    },
    {
      "cell_type": "code",
      "source": [
        "#if"
      ],
      "metadata": {
        "id": "mOPJS9Y2EIvT"
      },
      "execution_count": null,
      "outputs": []
    },
    {
      "cell_type": "code",
      "source": [
        "is_man = False\n",
        "is_strong = True"
      ],
      "metadata": {
        "id": "Eb6XS_z4EIsc"
      },
      "execution_count": null,
      "outputs": []
    },
    {
      "cell_type": "code",
      "source": [
        "if is_man:\n",
        "  print('man')\n",
        "if is_strong:\n",
        "  print('strong')\n",
        "print('finish')"
      ],
      "metadata": {
        "colab": {
          "base_uri": "https://localhost:8080/"
        },
        "id": "85hTQWP6EIkT",
        "outputId": "132da91e-ecfa-4695-bac7-4b38d9f7d8a3"
      },
      "execution_count": null,
      "outputs": [
        {
          "output_type": "stream",
          "name": "stdout",
          "text": [
            "strong\n",
            "finish\n"
          ]
        }
      ]
    },
    {
      "cell_type": "code",
      "source": [],
      "metadata": {
        "id": "Zg2nNnGEISXD"
      },
      "execution_count": null,
      "outputs": []
    },
    {
      "cell_type": "code",
      "source": [
        "if is_man :\n",
        "  print('man')\n",
        "else:\n",
        "  print('finish')"
      ],
      "metadata": {
        "colab": {
          "base_uri": "https://localhost:8080/"
        },
        "id": "NC8uQwfqHwRk",
        "outputId": "544cd365-73da-4b18-9fc0-b9efcfd6327f"
      },
      "execution_count": null,
      "outputs": [
        {
          "output_type": "stream",
          "name": "stdout",
          "text": [
            "finish\n"
          ]
        }
      ]
    },
    {
      "cell_type": "code",
      "source": [
        "is_man = True\n",
        "is_strong = True"
      ],
      "metadata": {
        "id": "UhPVH1ImITED"
      },
      "execution_count": null,
      "outputs": []
    },
    {
      "cell_type": "code",
      "source": [
        "if is_man :\n",
        "  print('man')\n",
        "else:\n",
        "  print('finish')"
      ],
      "metadata": {
        "colab": {
          "base_uri": "https://localhost:8080/"
        },
        "id": "7nsl3zMdIQmj",
        "outputId": "9be61930-0ca1-4cb0-e72a-46f9eefd8a82"
      },
      "execution_count": null,
      "outputs": [
        {
          "output_type": "stream",
          "name": "stdout",
          "text": [
            "man\n"
          ]
        }
      ]
    },
    {
      "cell_type": "code",
      "source": [
        "is_man = True\n",
        "is_strong = True\n",
        "is_woman = True"
      ],
      "metadata": {
        "id": "qPWUF60sIVr7"
      },
      "execution_count": null,
      "outputs": []
    },
    {
      "cell_type": "code",
      "source": [
        "if is_man :\n",
        "  print('man')\n",
        "elif is_woman:\n",
        "  print('woman')\n",
        "else:\n",
        "  print('finish')"
      ],
      "metadata": {
        "colab": {
          "base_uri": "https://localhost:8080/"
        },
        "id": "1LPWVBsHIdxT",
        "outputId": "4c85aa63-f41e-449d-ae4b-d1ff46fbee81"
      },
      "execution_count": null,
      "outputs": [
        {
          "output_type": "stream",
          "name": "stdout",
          "text": [
            "man\n"
          ]
        }
      ]
    },
    {
      "cell_type": "code",
      "source": [
        "is_man = False\n",
        "is_strong = True\n",
        "is_woman = True"
      ],
      "metadata": {
        "id": "BT0b0vThIiHE"
      },
      "execution_count": null,
      "outputs": []
    },
    {
      "cell_type": "code",
      "source": [
        "if is_man :\n",
        "  print('man')\n",
        "elif is_woman:\n",
        "  print('woman')\n",
        "else:\n",
        "  print('finish')"
      ],
      "metadata": {
        "colab": {
          "base_uri": "https://localhost:8080/"
        },
        "id": "Vprgt8KrIml0",
        "outputId": "10496fca-af09-40c4-f659-85883f53535c"
      },
      "execution_count": null,
      "outputs": [
        {
          "output_type": "stream",
          "name": "stdout",
          "text": [
            "woman\n"
          ]
        }
      ]
    },
    {
      "cell_type": "code",
      "source": [
        "## Truthy and Falsey"
      ],
      "metadata": {
        "id": "kRA5iMvZIn9k"
      },
      "execution_count": null,
      "outputs": []
    },
    {
      "cell_type": "code",
      "source": [
        "bool('')"
      ],
      "metadata": {
        "colab": {
          "base_uri": "https://localhost:8080/"
        },
        "id": "a1pN7TXnJCjM",
        "outputId": "1dba8541-57c7-4546-c47e-aab87310052f"
      },
      "execution_count": null,
      "outputs": [
        {
          "output_type": "execute_result",
          "data": {
            "text/plain": [
              "False"
            ]
          },
          "metadata": {},
          "execution_count": 22
        }
      ]
    },
    {
      "cell_type": "code",
      "source": [
        "bool([])"
      ],
      "metadata": {
        "colab": {
          "base_uri": "https://localhost:8080/"
        },
        "id": "qmPNmOZWJEWs",
        "outputId": "b559f619-bde8-4b6c-e1f0-5bae349d42f8"
      },
      "execution_count": null,
      "outputs": [
        {
          "output_type": "execute_result",
          "data": {
            "text/plain": [
              "False"
            ]
          },
          "metadata": {},
          "execution_count": 23
        }
      ]
    },
    {
      "cell_type": "code",
      "source": [
        "bool(0)"
      ],
      "metadata": {
        "colab": {
          "base_uri": "https://localhost:8080/"
        },
        "id": "_wDOMQIJJGoM",
        "outputId": "cfb35458-26ef-45e6-cb46-176a4b8a3712"
      },
      "execution_count": null,
      "outputs": [
        {
          "output_type": "execute_result",
          "data": {
            "text/plain": [
              "False"
            ]
          },
          "metadata": {},
          "execution_count": 24
        }
      ]
    },
    {
      "cell_type": "code",
      "source": [
        "bool(None)"
      ],
      "metadata": {
        "colab": {
          "base_uri": "https://localhost:8080/"
        },
        "id": "sCy8eRZYJIzk",
        "outputId": "bb24466c-eceb-47aa-e277-64b02831b8d2"
      },
      "execution_count": null,
      "outputs": [
        {
          "output_type": "execute_result",
          "data": {
            "text/plain": [
              "False"
            ]
          },
          "metadata": {},
          "execution_count": 25
        }
      ]
    },
    {
      "cell_type": "code",
      "source": [
        "bool('a')"
      ],
      "metadata": {
        "colab": {
          "base_uri": "https://localhost:8080/"
        },
        "id": "MmskSeXXJKfs",
        "outputId": "4d7b3027-4127-4b21-b073-74cb605f0273"
      },
      "execution_count": null,
      "outputs": [
        {
          "output_type": "execute_result",
          "data": {
            "text/plain": [
              "True"
            ]
          },
          "metadata": {},
          "execution_count": 26
        }
      ]
    },
    {
      "cell_type": "code",
      "source": [
        "bool([1,2,3])"
      ],
      "metadata": {
        "colab": {
          "base_uri": "https://localhost:8080/"
        },
        "id": "0ynYzFh2JPQc",
        "outputId": "96079ead-00a4-46eb-d523-fd1676b1bd2c"
      },
      "execution_count": null,
      "outputs": [
        {
          "output_type": "execute_result",
          "data": {
            "text/plain": [
              "True"
            ]
          },
          "metadata": {},
          "execution_count": 27
        }
      ]
    },
    {
      "cell_type": "code",
      "source": [
        "bool(5)"
      ],
      "metadata": {
        "colab": {
          "base_uri": "https://localhost:8080/"
        },
        "id": "DQpuBNwUJRA8",
        "outputId": "1c269d7a-8c83-49a9-a897-a66abc9432d5"
      },
      "execution_count": null,
      "outputs": [
        {
          "output_type": "execute_result",
          "data": {
            "text/plain": [
              "True"
            ]
          },
          "metadata": {},
          "execution_count": 28
        }
      ]
    },
    {
      "cell_type": "code",
      "source": [
        "username = ''\n",
        "password = ''"
      ],
      "metadata": {
        "id": "OQ3fP0IxJW4j"
      },
      "execution_count": null,
      "outputs": []
    },
    {
      "cell_type": "code",
      "source": [
        "if username and password:\n",
        "  print('can in')\n",
        "else:\n",
        "  print('please try again')"
      ],
      "metadata": {
        "colab": {
          "base_uri": "https://localhost:8080/"
        },
        "id": "kRbxvKdPJbUD",
        "outputId": "a3e62273-f2a8-4e17-f24f-6fda8befe546"
      },
      "execution_count": null,
      "outputs": [
        {
          "output_type": "stream",
          "name": "stdout",
          "text": [
            "please try again\n"
          ]
        }
      ]
    },
    {
      "cell_type": "code",
      "source": [
        "username = 'myname'\n",
        "password = '1234'"
      ],
      "metadata": {
        "id": "nA2qy3K8JfJ8"
      },
      "execution_count": null,
      "outputs": []
    },
    {
      "cell_type": "code",
      "source": [
        "if username and password:\n",
        "  print('can log-in')\n",
        "  #Check username and password logic\n",
        "else:\n",
        "  print('please try again')"
      ],
      "metadata": {
        "colab": {
          "base_uri": "https://localhost:8080/"
        },
        "id": "LTGvQuqlJjQe",
        "outputId": "f6299beb-4d9b-467e-fa74-0f798497a0b2"
      },
      "execution_count": null,
      "outputs": [
        {
          "output_type": "stream",
          "name": "stdout",
          "text": [
            "can log-in\n"
          ]
        }
      ]
    },
    {
      "cell_type": "code",
      "source": [
        "#Ternary Operator"
      ],
      "metadata": {
        "id": "Uu70_HjlJluU"
      },
      "execution_count": null,
      "outputs": []
    },
    {
      "cell_type": "code",
      "source": [
        "# condifion_if_true if conditon else condition_else"
      ],
      "metadata": {
        "id": "P9ATnTibJ1Xs"
      },
      "execution_count": null,
      "outputs": []
    },
    {
      "cell_type": "code",
      "source": [
        "is_friend = True\n",
        "can_message = 'message allowed' if is_friend else 'not allowed to message'\n",
        "print(can_message)"
      ],
      "metadata": {
        "colab": {
          "base_uri": "https://localhost:8080/"
        },
        "id": "1Y1NoNm0J8_b",
        "outputId": "8608bfa6-bb3a-4c89-b4d1-24c289a59abd"
      },
      "execution_count": null,
      "outputs": [
        {
          "output_type": "stream",
          "name": "stdout",
          "text": [
            "message allowed\n"
          ]
        }
      ]
    },
    {
      "cell_type": "code",
      "source": [
        "is_friend = False\n",
        "can_message = 'message allowed' if is_friend else 'not allowed to message'\n",
        "print(can_message)"
      ],
      "metadata": {
        "colab": {
          "base_uri": "https://localhost:8080/"
        },
        "id": "tOqycJJxKCMz",
        "outputId": "0522edaf-e021-4299-e7c4-d010a86fc30b"
      },
      "execution_count": null,
      "outputs": [
        {
          "output_type": "stream",
          "name": "stdout",
          "text": [
            "not allowed to message\n"
          ]
        }
      ]
    },
    {
      "cell_type": "code",
      "source": [
        "#Short Citcuiting"
      ],
      "metadata": {
        "id": "qVJSVUF4KHHy"
      },
      "execution_count": null,
      "outputs": []
    },
    {
      "cell_type": "code",
      "source": [
        "is_man = True\n",
        "is_strong = True"
      ],
      "metadata": {
        "id": "iMSENduOKMKj"
      },
      "execution_count": null,
      "outputs": []
    },
    {
      "cell_type": "code",
      "source": [
        "print(is_man or is_strong)"
      ],
      "metadata": {
        "colab": {
          "base_uri": "https://localhost:8080/"
        },
        "id": "SSkrNso4KQLb",
        "outputId": "c08c3691-5dba-4e5d-fe4f-adbb2166f2e7"
      },
      "execution_count": null,
      "outputs": [
        {
          "output_type": "stream",
          "name": "stdout",
          "text": [
            "True\n"
          ]
        }
      ]
    },
    {
      "cell_type": "code",
      "source": [
        "is_man = False\n",
        "is_strong = True\n",
        "print(is_man or is_strong)"
      ],
      "metadata": {
        "colab": {
          "base_uri": "https://localhost:8080/"
        },
        "id": "Two_7j0KKR0D",
        "outputId": "a0e340a4-b101-44a8-81da-e4535554d91a"
      },
      "execution_count": null,
      "outputs": [
        {
          "output_type": "stream",
          "name": "stdout",
          "text": [
            "True\n"
          ]
        }
      ]
    },
    {
      "cell_type": "markdown",
      "source": [
        "## 2.2 Logical operators"
      ],
      "metadata": {
        "id": "NHQX6SEJKW8T"
      }
    },
    {
      "cell_type": "code",
      "source": [
        " 1>5"
      ],
      "metadata": {
        "colab": {
          "base_uri": "https://localhost:8080/"
        },
        "id": "3SCqc2hRd24x",
        "outputId": "239d8d06-7ef1-418b-fb1e-0f37c4c6eb39"
      },
      "execution_count": 35,
      "outputs": [
        {
          "output_type": "execute_result",
          "data": {
            "text/plain": [
              "False"
            ]
          },
          "metadata": {},
          "execution_count": 35
        }
      ]
    },
    {
      "cell_type": "code",
      "source": [
        "1<5"
      ],
      "metadata": {
        "colab": {
          "base_uri": "https://localhost:8080/"
        },
        "id": "JEw3bdSteD_C",
        "outputId": "c952ddf6-16c8-401c-a83f-edac3f8f23f0"
      },
      "execution_count": 36,
      "outputs": [
        {
          "output_type": "execute_result",
          "data": {
            "text/plain": [
              "True"
            ]
          },
          "metadata": {},
          "execution_count": 36
        }
      ]
    },
    {
      "cell_type": "code",
      "source": [
        "print(4=5)"
      ],
      "metadata": {
        "colab": {
          "base_uri": "https://localhost:8080/",
          "height": 106
        },
        "id": "wWj0J1oNeFj6",
        "outputId": "f871a127-8d78-49c1-d31d-db3521389b9b"
      },
      "execution_count": 38,
      "outputs": [
        {
          "output_type": "error",
          "ename": "SyntaxError",
          "evalue": "expression cannot contain assignment, perhaps you meant \"==\"? (<ipython-input-38-5c8ee04f8d4e>, line 1)",
          "traceback": [
            "\u001b[0;36m  File \u001b[0;32m\"<ipython-input-38-5c8ee04f8d4e>\"\u001b[0;36m, line \u001b[0;32m1\u001b[0m\n\u001b[0;31m    print(4=5)\u001b[0m\n\u001b[0m          ^\u001b[0m\n\u001b[0;31mSyntaxError\u001b[0m\u001b[0;31m:\u001b[0m expression cannot contain assignment, perhaps you meant \"==\"?\n"
          ]
        }
      ]
    },
    {
      "cell_type": "code",
      "source": [
        "print(\"hi\"==\"hi\")"
      ],
      "metadata": {
        "colab": {
          "base_uri": "https://localhost:8080/"
        },
        "id": "aD2Lu8IteI3y",
        "outputId": "56e6da1b-99f1-4abb-8298-72b53ca2ea90"
      },
      "execution_count": 39,
      "outputs": [
        {
          "output_type": "stream",
          "name": "stdout",
          "text": [
            "True\n"
          ]
        }
      ]
    },
    {
      "cell_type": "code",
      "source": [
        "print('a' > 'b')"
      ],
      "metadata": {
        "colab": {
          "base_uri": "https://localhost:8080/"
        },
        "id": "LWYYYMP0eSry",
        "outputId": "11dbaf42-1b58-4a0b-b7c7-581e22316fb6"
      },
      "execution_count": 40,
      "outputs": [
        {
          "output_type": "stream",
          "name": "stdout",
          "text": [
            "False\n"
          ]
        }
      ]
    },
    {
      "cell_type": "code",
      "source": [
        "print(1<2<3<4)"
      ],
      "metadata": {
        "colab": {
          "base_uri": "https://localhost:8080/"
        },
        "id": "c7P74SCMeXbz",
        "outputId": "6c57bc06-9529-4342-f049-5ae3d5a8ac10"
      },
      "execution_count": 41,
      "outputs": [
        {
          "output_type": "stream",
          "name": "stdout",
          "text": [
            "True\n"
          ]
        }
      ]
    },
    {
      "cell_type": "code",
      "source": [
        "print(1<2>3<4)"
      ],
      "metadata": {
        "colab": {
          "base_uri": "https://localhost:8080/"
        },
        "id": "leT0SEDNedgC",
        "outputId": "4e3f653c-cad3-4078-bd0d-6873f50423ef"
      },
      "execution_count": 42,
      "outputs": [
        {
          "output_type": "stream",
          "name": "stdout",
          "text": [
            "False\n"
          ]
        }
      ]
    },
    {
      "cell_type": "code",
      "source": [
        "print(0 != 0)"
      ],
      "metadata": {
        "colab": {
          "base_uri": "https://localhost:8080/"
        },
        "id": "HVso40fdegMq",
        "outputId": "347c2269-af41-49f3-ea17-47ab7120d5ff"
      },
      "execution_count": 43,
      "outputs": [
        {
          "output_type": "stream",
          "name": "stdout",
          "text": [
            "False\n"
          ]
        }
      ]
    },
    {
      "cell_type": "code",
      "source": [
        "print(1 != 0)"
      ],
      "metadata": {
        "colab": {
          "base_uri": "https://localhost:8080/"
        },
        "id": "QLq6XwhpekRC",
        "outputId": "274e5578-5f4d-46e1-efc1-a8fbdb28c305"
      },
      "execution_count": 44,
      "outputs": [
        {
          "output_type": "stream",
          "name": "stdout",
          "text": [
            "True\n"
          ]
        }
      ]
    },
    {
      "cell_type": "code",
      "source": [
        "# And not"
      ],
      "metadata": {
        "id": "49xgHgC_emhz"
      },
      "execution_count": 45,
      "outputs": []
    },
    {
      "cell_type": "code",
      "source": [
        "print(not(True))"
      ],
      "metadata": {
        "colab": {
          "base_uri": "https://localhost:8080/"
        },
        "id": "RRm0rGz2ep1k",
        "outputId": "a8f3e75c-2545-492b-ae22-f685a24824cf"
      },
      "execution_count": 46,
      "outputs": [
        {
          "output_type": "stream",
          "name": "stdout",
          "text": [
            "False\n"
          ]
        }
      ]
    },
    {
      "cell_type": "code",
      "source": [
        "print(not(False))"
      ],
      "metadata": {
        "colab": {
          "base_uri": "https://localhost:8080/"
        },
        "id": "V_J3lALcesg7",
        "outputId": "a226dda8-08e8-4c9f-b6b2-784886d9ec4f"
      },
      "execution_count": 47,
      "outputs": [
        {
          "output_type": "stream",
          "name": "stdout",
          "text": [
            "True\n"
          ]
        }
      ]
    },
    {
      "cell_type": "code",
      "source": [
        "is_musician = False\n",
        "is_awesome = True\n",
        "\n",
        "if is_musician and is_awesome:\n",
        "  print('you are awesome musician')\n",
        "\n",
        "elif is_musician and not is_awesome:\n",
        "  print('you are ok')\n",
        "else:\n",
        "  print('please try again')\n",
        "#"
      ],
      "metadata": {
        "colab": {
          "base_uri": "https://localhost:8080/"
        },
        "id": "B18oVfjievx5",
        "outputId": "11dd0d20-ca92-477f-f72e-3114a0754529"
      },
      "execution_count": 48,
      "outputs": [
        {
          "output_type": "stream",
          "name": "stdout",
          "text": [
            "please try again\n"
          ]
        }
      ]
    },
    {
      "cell_type": "code",
      "source": [
        "is_musician = True\n",
        "is_awesome = True\n",
        "\n",
        "if is_musician and is_awesome:\n",
        "  print('you are awesome musician')\n",
        "\n",
        "elif is_musician and not is_awesome:\n",
        "  print('you are ok')\n",
        "else:\n",
        "  print('please try again')"
      ],
      "metadata": {
        "colab": {
          "base_uri": "https://localhost:8080/"
        },
        "id": "A2R0ee5GfJxS",
        "outputId": "10c866a6-4682-4972-a091-b618076f3591"
      },
      "execution_count": 49,
      "outputs": [
        {
          "output_type": "stream",
          "name": "stdout",
          "text": [
            "you are awesome musician\n"
          ]
        }
      ]
    },
    {
      "cell_type": "code",
      "source": [
        "is_musician = True\n",
        "is_awesome = False\n",
        "\n",
        "if is_musician and is_awesome:\n",
        "  print('you are awesome musician')\n",
        "\n",
        "elif is_musician and not is_awesome:\n",
        "  print('you are ok')\n",
        "else:\n",
        "  print('please try again')"
      ],
      "metadata": {
        "colab": {
          "base_uri": "https://localhost:8080/"
        },
        "id": "D6RPISZKfSXD",
        "outputId": "ce82228a-9919-40b8-8270-82357057f0ea"
      },
      "execution_count": 50,
      "outputs": [
        {
          "output_type": "stream",
          "name": "stdout",
          "text": [
            "you are ok\n"
          ]
        }
      ]
    },
    {
      "cell_type": "code",
      "source": [
        "print(True == 1)"
      ],
      "metadata": {
        "colab": {
          "base_uri": "https://localhost:8080/"
        },
        "id": "sV9Ir89afWcq",
        "outputId": "ec0148f0-cf21-4407-ec54-91e0f0ed12b2"
      },
      "execution_count": 51,
      "outputs": [
        {
          "output_type": "stream",
          "name": "stdout",
          "text": [
            "True\n"
          ]
        }
      ]
    },
    {
      "cell_type": "code",
      "source": [
        "print('' == 1)"
      ],
      "metadata": {
        "colab": {
          "base_uri": "https://localhost:8080/"
        },
        "id": "Ou6-r0JjfcmC",
        "outputId": "11c0719e-f4ff-4566-bd05-0da959a13b26"
      },
      "execution_count": 52,
      "outputs": [
        {
          "output_type": "stream",
          "name": "stdout",
          "text": [
            "False\n"
          ]
        }
      ]
    },
    {
      "cell_type": "code",
      "source": [
        "print( 10 == 10.0)"
      ],
      "metadata": {
        "colab": {
          "base_uri": "https://localhost:8080/"
        },
        "id": "T5zxVAcSfgC7",
        "outputId": "f55cacb1-22c3-41c0-9bce-0db50617a58b"
      },
      "execution_count": 53,
      "outputs": [
        {
          "output_type": "stream",
          "name": "stdout",
          "text": [
            "True\n"
          ]
        }
      ]
    },
    {
      "cell_type": "code",
      "source": [
        "print([] == [])"
      ],
      "metadata": {
        "colab": {
          "base_uri": "https://localhost:8080/"
        },
        "id": "kt8Tr-FafkXa",
        "outputId": "0967331a-7873-4504-84fe-283f567ecef5"
      },
      "execution_count": 54,
      "outputs": [
        {
          "output_type": "stream",
          "name": "stdout",
          "text": [
            "True\n"
          ]
        }
      ]
    },
    {
      "cell_type": "code",
      "source": [
        "print([1,2,3] == [1,2,3])"
      ],
      "metadata": {
        "colab": {
          "base_uri": "https://localhost:8080/"
        },
        "id": "aHunD_wQfqFS",
        "outputId": "41f83298-2fbd-4d09-8513-c9e952fc7e90"
      },
      "execution_count": 56,
      "outputs": [
        {
          "output_type": "stream",
          "name": "stdout",
          "text": [
            "True\n"
          ]
        }
      ]
    },
    {
      "cell_type": "code",
      "source": [],
      "metadata": {
        "id": "Ud8MfhOKfw4b"
      },
      "execution_count": null,
      "outputs": []
    }
  ]
}