{
  "nbformat": 4,
  "nbformat_minor": 0,
  "metadata": {
    "colab": {
      "provenance": [],
      "authorship_tag": "ABX9TyPdJbJM3GVmDc4ttygyiMOC",
      "include_colab_link": true
    },
    "kernelspec": {
      "name": "python3",
      "display_name": "Python 3"
    },
    "language_info": {
      "name": "python"
    }
  },
  "cells": [
    {
      "cell_type": "markdown",
      "metadata": {
        "id": "view-in-github",
        "colab_type": "text"
      },
      "source": [
        "<a href=\"https://colab.research.google.com/github/runtorain/PythonForAI/blob/main/EP1_intro_to_colab.ipynb\" target=\"_parent\"><img src=\"https://colab.research.google.com/assets/colab-badge.svg\" alt=\"Open In Colab\"/></a>"
      ]
    },
    {
      "cell_type": "markdown",
      "source": [
        "# 1.Data Type"
      ],
      "metadata": {
        "id": "mExu-T8BizCk"
      }
    },
    {
      "cell_type": "markdown",
      "source": [
        "\n",
        "\n",
        "*   Int\n",
        "*   Float\n",
        "*   Bool\n",
        "*   String\n",
        "*   Tuple\n",
        "*   Set\n",
        "*   Dictionary\n",
        "\n"
      ],
      "metadata": {
        "id": "n5TLQZNwjHkC"
      }
    },
    {
      "cell_type": "markdown",
      "source": [
        "## 1.1 Int"
      ],
      "metadata": {
        "id": "L6trdJqii6J5"
      }
    },
    {
      "cell_type": "code",
      "execution_count": null,
      "metadata": {
        "id": "MyjGLN4OhpLC"
      },
      "outputs": [],
      "source": []
    },
    {
      "cell_type": "markdown",
      "source": [
        "# 2.Other"
      ],
      "metadata": {
        "id": "2thFrY55i9RD"
      }
    },
    {
      "cell_type": "code",
      "source": [],
      "metadata": {
        "id": "a0q9pJ51jAcE"
      },
      "execution_count": null,
      "outputs": []
    }
  ]
}